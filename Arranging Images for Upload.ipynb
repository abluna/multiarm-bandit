{
 "cells": [
  {
   "cell_type": "code",
   "execution_count": 88,
   "id": "40c564f0-36ec-494b-b8d2-63e7852fdf8e",
   "metadata": {},
   "outputs": [],
   "source": [
    "import boto3\n",
    "import csv"
   ]
  },
  {
   "cell_type": "code",
   "execution_count": 90,
   "id": "8a57f01f-ae85-436b-9247-3238838c2544",
   "metadata": {},
   "outputs": [],
   "source": [
    "def write_list_to_csv(data_list, file_name):\n",
    "    # Open the file in write mode\n",
    "    with open(file_name, mode='w', newline='') as file:\n",
    "        writer = csv.writer(file)\n",
    "        # Write the list as a single row\n",
    "        writer.writerow(data_list)"
   ]
  },
  {
   "cell_type": "code",
   "execution_count": 80,
   "id": "1485e1d0-1b5d-4aed-ab2f-760c0b9327fe",
   "metadata": {},
   "outputs": [],
   "source": [
    "a = s3_resource.Bucket('ab4bucket') \n",
    "links = []\n",
    "for obj in a.objects.all():\n",
    "    #object URL\n",
    "    links.append(\"https://ab4bucket.s3.us-east-2.amazonaws.com/\" + obj.key)\n",
    "    #if you want to print all the data of object, just print obj"
   ]
  },
  {
   "cell_type": "code",
   "execution_count": 92,
   "id": "dec26ede-3311-428b-8143-4e0977d07b28",
   "metadata": {},
   "outputs": [],
   "source": [
    "write_list_to_csv(links, \"C:/Users/abbal/Documents/Data Science Personal Projects/Py - Bird Classification/Bird S3 Links.csv\")"
   ]
  },
  {
   "cell_type": "code",
   "execution_count": 62,
   "id": "a2ee7a50-ec39-4abf-957d-a55aaeac6abd",
   "metadata": {},
   "outputs": [],
   "source": [
    "from os import listdir\n",
    "from os.path import isfile, join\n",
    "import shutil"
   ]
  },
  {
   "cell_type": "code",
   "execution_count": 52,
   "id": "50a2d862-17e3-4f75-a3b1-3e225fb8f5c3",
   "metadata": {},
   "outputs": [],
   "source": [
    "def get_folders_in_directory(directory_path):\n",
    "    # List all items in the specified directory\n",
    "    items = os.listdir(directory_path)\n",
    "    # Filter and return only the directories\n",
    "    folders = [item for item in items if os.path.isdir(os.path.join(directory_path, item))]\n",
    "    return folders"
   ]
  },
  {
   "cell_type": "code",
   "execution_count": 54,
   "id": "9fc8a5c5-4d99-49d5-aa58-037c281d5246",
   "metadata": {},
   "outputs": [],
   "source": [
    "## Folder where images will be saved\n",
    "to_folder = 'C:/Users/abbal/Documents/Data Science Personal Projects/Py - Bird Classification/For Upload'\n",
    "path_orig_folders = 'C:/Users/abbal/Documents/Data Science Personal Projects/Py - Bird Classification/Bird From Google Drive/Raw Images'\n",
    "\n",
    "#os.mkdir(to_folder)"
   ]
  },
  {
   "cell_type": "code",
   "execution_count": 56,
   "id": "f165c073-17dc-4c0d-9e01-394d05e3ee33",
   "metadata": {},
   "outputs": [],
   "source": [
    "## Get Folder Names\n",
    "fld_names = get_folders_in_directory(path_orig_folders)"
   ]
  },
  {
   "cell_type": "code",
   "execution_count": 76,
   "id": "c42b31b2-f571-480a-8faf-3dc94e105536",
   "metadata": {},
   "outputs": [],
   "source": [
    "master_path = 'C:/Users/abbal/Documents/Data Science Personal Projects/Py - Bird Classification'\n",
    "\n",
    "for brd in fld_names:\n",
    "\n",
    "    # current bird\n",
    "    curr_brd_path = os.path.join(path_orig_folders,brd)\n",
    "    from_image_name = [f for f in listdir(curr_brd_path) if isfile(join(curr_brd_path, f))][0]\n",
    "\n",
    "    Orig_file = os.path.join(curr_brd_path, from_image_name)\n",
    "    New_file = os.path.join(to_folder, brd + '.jpg')\n",
    "    shutil.copyfile(Orig_file, New_file)"
   ]
  },
  {
   "cell_type": "code",
   "execution_count": 42,
   "id": "0e3f2933-acd4-4008-b082-901954d8d28d",
   "metadata": {},
   "outputs": [
    {
     "data": {
      "text/plain": [
       "'Image_0001.jpg'"
      ]
     },
     "execution_count": 42,
     "metadata": {},
     "output_type": "execute_result"
    }
   ],
   "source": [
    "from_image_name"
   ]
  },
  {
   "cell_type": "code",
   "execution_count": null,
   "id": "1ecc8dbe-fca7-4bac-81be-d4f3d62ea4db",
   "metadata": {},
   "outputs": [],
   "source": []
  }
 ],
 "metadata": {
  "kernelspec": {
   "display_name": "Python [conda env:xgb_env] *",
   "language": "python",
   "name": "conda-env-xgb_env-py"
  },
  "language_info": {
   "codemirror_mode": {
    "name": "ipython",
    "version": 3
   },
   "file_extension": ".py",
   "mimetype": "text/x-python",
   "name": "python",
   "nbconvert_exporter": "python",
   "pygments_lexer": "ipython3",
   "version": "3.12.3"
  }
 },
 "nbformat": 4,
 "nbformat_minor": 5
}
