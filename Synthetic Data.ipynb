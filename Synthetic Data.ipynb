{
 "cells": [
  {
   "cell_type": "markdown",
   "id": "c359cc80-d4d8-426c-a858-639237b9b1d8",
   "metadata": {},
   "source": [
    "## Get Packages"
   ]
  },
  {
   "cell_type": "code",
   "execution_count": 1,
   "id": "e4693259-2d96-4cae-9ac2-139410dae185",
   "metadata": {},
   "outputs": [],
   "source": [
    "import pandas as pd\n",
    "import numpy as np\n",
    "import random\n",
    "import sys\n",
    "import itertools\n",
    "\n",
    "\n",
    "pd.set_option('display.max_columns', None)"
   ]
  },
  {
   "cell_type": "code",
   "execution_count": 90,
   "id": "27dff187-36d6-442a-b803-23941e265a93",
   "metadata": {},
   "outputs": [
    {
     "name": "stdout",
     "output_type": "stream",
     "text": [
      "Good - Abraham\n"
     ]
    }
   ],
   "source": [
    "from importlib import reload\n",
    "import mab\n",
    "reload(mab)\n",
    "\n",
    "mab.mab_test()"
   ]
  },
  {
   "cell_type": "markdown",
   "id": "c4557a30-91b1-4801-b1a8-e480e796d2ae",
   "metadata": {},
   "source": [
    "## Create Synthetic Segment"
   ]
  },
  {
   "cell_type": "code",
   "execution_count": 91,
   "id": "914f57ad-52fc-425c-a8fc-a8539b38e2bf",
   "metadata": {},
   "outputs": [],
   "source": [
    "row_count = 10000\n",
    "seg_cols = ['gender', 'age',\n",
    "            'income', 'buyer', \n",
    "            'region', 'area',\n",
    "            'parent']\n",
    "\n",
    "segments = [\"Male\", \"Female\",\n",
    "            \"Young\", \"Middle Age\", \"Older\",\n",
    "            \"Low Income\", \"Medium Income\", \"High Income\",\n",
    "            \"Prior Buyer\", \"First-Time Buyer\",\n",
    "            \"North\", \"West\", \"South\", \"East\",\n",
    "            \"Urban\", \"Suburban\",\n",
    "            \"Non-Parent\", \"Parent\"]\n",
    "\n",
    "Segment_df = mab.create_synthetic_sample(row_count=row_count)"
   ]
  },
  {
   "cell_type": "markdown",
   "id": "bd158a01-dbc0-4bf8-85d5-bad7b1a785fc",
   "metadata": {},
   "source": [
    "## Create Outcome Metric"
   ]
  },
  {
   "cell_type": "code",
   "execution_count": 92,
   "id": "c066adb1-5e51-4a23-bda6-dd8a9cfea803",
   "metadata": {
    "editable": true,
    "scrolled": true,
    "slideshow": {
     "slide_type": ""
    },
    "tags": []
   },
   "outputs": [
    {
     "data": {
      "text/html": [
       "<div>\n",
       "<style scoped>\n",
       "    .dataframe tbody tr th:only-of-type {\n",
       "        vertical-align: middle;\n",
       "    }\n",
       "\n",
       "    .dataframe tbody tr th {\n",
       "        vertical-align: top;\n",
       "    }\n",
       "\n",
       "    .dataframe thead tr th {\n",
       "        text-align: left;\n",
       "    }\n",
       "\n",
       "    .dataframe thead tr:last-of-type th {\n",
       "        text-align: right;\n",
       "    }\n",
       "</style>\n",
       "<table border=\"1\" class=\"dataframe\">\n",
       "  <thead>\n",
       "    <tr>\n",
       "      <th></th>\n",
       "      <th colspan=\"3\" halign=\"left\">converted</th>\n",
       "    </tr>\n",
       "    <tr>\n",
       "      <th></th>\n",
       "      <th>mean</th>\n",
       "      <th>count</th>\n",
       "      <th>sum</th>\n",
       "    </tr>\n",
       "    <tr>\n",
       "      <th>was_modified</th>\n",
       "      <th></th>\n",
       "      <th></th>\n",
       "      <th></th>\n",
       "    </tr>\n",
       "  </thead>\n",
       "  <tbody>\n",
       "    <tr>\n",
       "      <th>False</th>\n",
       "      <td>0.016949</td>\n",
       "      <td>413</td>\n",
       "      <td>7</td>\n",
       "    </tr>\n",
       "    <tr>\n",
       "      <th>True</th>\n",
       "      <td>0.129342</td>\n",
       "      <td>9587</td>\n",
       "      <td>1240</td>\n",
       "    </tr>\n",
       "  </tbody>\n",
       "</table>\n",
       "</div>"
      ],
      "text/plain": [
       "             converted            \n",
       "                  mean count   sum\n",
       "was_modified                      \n",
       "False         0.016949   413     7\n",
       "True          0.129342  9587  1240"
      ]
     },
     "metadata": {},
     "output_type": "display_data"
    }
   ],
   "source": [
    "############\n",
    "## Step 1 ##\n",
    "############\n",
    "\n",
    "## Full random assignment for Variant\n",
    "Segment_df = mab.add_conversion_rates(df=Segment_df, seg_cols=seg_cols, segments=segments, print_diagnostics=True)"
   ]
  },
  {
   "cell_type": "code",
   "execution_count": 93,
   "id": "b4eb6c58-e657-485e-82d2-609762e04e1e",
   "metadata": {},
   "outputs": [],
   "source": [
    "#############\n",
    "## Step #2 ##\n",
    "#############\n",
    "\n",
    "# Take the Target group and build an optimization score to determine how ads should be allocated\n",
    "Segment_df.loc[Segment_df['variant_assignment'] == 'Variant A', 'Variant_a_performance'] = Segment_df['converted']\n",
    "Segment_df.loc[Segment_df['variant_assignment'] == 'Variant B', 'Variant_b_performance'] = Segment_df['converted']\n",
    "Segment_df.loc[Segment_df['variant_assignment'] == 'Variant C', 'Variant_c_performance'] = Segment_df['converted']\n",
    "\n",
    "## Loop through each segment to store 'performance score'\n",
    "## One score -> One Segment\n",
    "perf_scores = []\n",
    "for seg in seg_cols:\n",
    "    perf_table = Segment_df.groupby(seg).agg({'Variant_a_performance': ['mean'],\n",
    "                                              'Variant_b_performance': ['mean'],\n",
    "                                              'Variant_c_performance': ['mean']})\n",
    "    perf_scores.append(perf_table)"
   ]
  },
  {
   "cell_type": "code",
   "execution_count": null,
   "id": "93803607-1893-4859-9148-1ddf8e651cc4",
   "metadata": {},
   "outputs": [],
   "source": [
    "###################\n",
    "## Next Audience ##\n",
    "###################\n",
    "Segment_df_step2 = mab.create_synthetic_sample(200000)\n",
    "\n",
    "Segment_df_step2 = mab.assignment_with_optimization(df = Segment_df_step2, prior_performance_scores=perf_scores, \n",
    "                                                    seg_cols=seg_cols, opt_target_size=0.20, learning_weight=5)"
   ]
  },
  {
   "cell_type": "code",
   "execution_count": null,
   "id": "997c00cb-5ace-41bb-87e4-125930521281",
   "metadata": {},
   "outputs": [],
   "source": [
    "## Create performance score\n",
    "Segment_df_step2 = mab.add_conversion_rates(df=Segment_df_step2, seg_cols=seg_cols, segments=segments, print_diagnostics=True, assign_variant=False)\n",
    "\n",
    "Segment_df_step2.groupby(['target_control']).aggregate({'converted': ['mean', 'count']})"
   ]
  },
  {
   "cell_type": "code",
   "execution_count": null,
   "id": "c69d00b5-71c1-4ce9-954f-ddb34433bdee",
   "metadata": {},
   "outputs": [],
   "source": [
    "###############################\n",
    "## Let's turn it into a loop ##\n",
    "###############################\n",
    "\n",
    "## Let's do 50 Loops, each time increasing the optimized target sample by 1\n",
    "\n",
    "overall_performance = []\n",
    "overall_target_performance = []\n",
    "org_target_performance = []\n",
    "opt_target_performance = []\n",
    "\n",
    "steps = 50\n",
    "row_count = 500000\n",
    "\n",
    "for i in range(steps):\n",
    "\n",
    "    if i == 0:\n",
    "        \n",
    "        Segment_df = mab.create_synthetic_sample(row_count=row_count)        \n",
    "        Segment_df = mab.add_conversion_rates(df=Segment_df, seg_cols=seg_cols, segments=segments, print_diagnostics=False)\n",
    "\n",
    "        ## Store results\n",
    "        overall_performance.append(Segment_df['converted'].mean())\n",
    "        org_target_performance.append(Segment_df.loc[Segment_df['variant_assignment'] != 'Control', 'converted'].mean())\n",
    "        overall_target_performance.append(Segment_df.loc[Segment_df['variant_assignment'] != 'Control', 'converted'].mean())\n",
    "        opt_target_performance.append(None)\n",
    "\n",
    "        ### For Next Iteration ###\n",
    "        \n",
    "        # Take the Target group and build an optimization score to determine how ads should be allocated\n",
    "        Segment_df.loc[Segment_df['variant_assignment'] == 'Variant A', 'Variant_a_performance'] = Segment_df['converted']\n",
    "        Segment_df.loc[Segment_df['variant_assignment'] == 'Variant B', 'Variant_b_performance'] = Segment_df['converted']\n",
    "        Segment_df.loc[Segment_df['variant_assignment'] == 'Variant C', 'Variant_c_performance'] = Segment_df['converted']\n",
    "        \n",
    "        ## Loop through each segment to store 'performance score'\n",
    "        ## One score -> One Segment\n",
    "        \n",
    "        perf_scores = []\n",
    "        for seg in seg_cols:\n",
    "            perf_table = Segment_df.groupby(seg).agg({'Variant_a_performance': ['mean'],\n",
    "                                                      'Variant_b_performance': ['mean'],\n",
    "                                                      'Variant_c_performance': ['mean']})\n",
    "            perf_scores.append(perf_table)\n",
    "\n",
    "    if i > 0:\n",
    "        \n",
    "        Segment_df_step2 = mab.create_synthetic_sample(row_count=row_count)\n",
    "        Segment_df_step2 = mab.assignment_with_optimization(df=Segment_df_step2, prior_performance_scores=perf_scores,seg_cols=seg_cols, opt_target_size=i/100)\n",
    "        Segment_df_step2 = mab.add_conversion_rates(df=Segment_df_step2, seg_cols=seg_cols, segments=segments, print_diagnostics=False, assign_variant=False)\n",
    "        Segment_df_step2 = Segment_df_step2.reset_index(drop=True)\n",
    "        \n",
    "        ## Store Results\n",
    "        overall_performance.append(Segment_df_step2['converted'].mean())\n",
    "        overall_target_performance.append(Segment_df_step2.loc[Segment_df_step2['target_control'] != 'control', 'converted'].mean())\n",
    "        org_target_performance.append(Segment_df_step2.loc[Segment_df_step2['target_control'] == 'target_org', 'converted'].mean())\n",
    "        opt_target_performance.append(Segment_df_step2.loc[Segment_df_step2['target_control'] == 'target_opt', 'converted'].mean())\n",
    "\n",
    "        ## For Next Iteration ##\n",
    "        \n",
    "        # Take the Target group and build an optimization score to determine how ads should be allocated\n",
    "        Segment_df_step2.loc[Segment_df_step2['variant_assignment'] == 'Variant A', 'Variant_a_performance'] = Segment_df_step2['converted']\n",
    "        Segment_df_step2.loc[Segment_df_step2['variant_assignment'] == 'Variant B', 'Variant_b_performance'] = Segment_df_step2['converted']\n",
    "        Segment_df_step2.loc[Segment_df_step2['variant_assignment'] == 'Variant C', 'Variant_c_performance'] = Segment_df_step2['converted']\n",
    "        \n",
    "        ## Loop through each segment to store 'performance score'        \n",
    "        perf_scores = []\n",
    "        for seg in seg_cols:\n",
    "            perf_table = Segment_df_step2[Segment_df_step2['target_control'] != 'target_org'].groupby(seg).agg({'Variant_a_performance': ['mean'],\n",
    "                                                                                                                'Variant_b_performance': ['mean'],\n",
    "                                                                                                                'Variant_c_performance': ['mean']})\n",
    "            perf_scores.append(perf_table)\n",
    "\n",
    "    i += 1 \n",
    "    mab.progress_bar(i, steps, 40)"
   ]
  },
  {
   "cell_type": "code",
   "execution_count": null,
   "id": "a8e2f8bc-16e8-46f1-8e20-c8fc1af3be6b",
   "metadata": {},
   "outputs": [],
   "source": [
    "final_results = pd.DataFrame({'overall_performance':overall_performance,\n",
    "                             'overall_target_performance':overall_target_performance,\n",
    "                             'org_target_performance':org_target_performance,\n",
    "                             'opt_target_performance':opt_target_performance,})\n",
    "\n",
    "display(final_results)"
   ]
  },
  {
   "cell_type": "code",
   "execution_count": null,
   "id": "358f7b66-f1cc-4a66-806f-1df8538052df",
   "metadata": {},
   "outputs": [],
   "source": [
    "pd_weights = mab.get_pd_weights_long(segments=segments)\n",
    "\n",
    "df=Segment_df \n",
    "seg_cols=seg_cols \n",
    "segments=segments \n",
    "print_diagnostics=True\n",
    "\n",
    "variant_names = [\n",
    "            'Control',\n",
    "            'Variant A',\n",
    "            'Variant B',\n",
    "            'Variant C',\n",
    "            ]    \n",
    "\n",
    "if assign_variant:\n",
    "\n",
    "    ## Full random assignment for Variant\n",
    "    df['Rand_08'] = np.random.uniform(1, 100, len(df))\n",
    "\n",
    "    variant_condition = [\n",
    "            (df['Rand_08'] <= 5),\n",
    "            (df['Rand_08'] > 5) & (df['Rand_08'] <= 37),\n",
    "            (df['Rand_08'] > 37) & (df['Rand_08'] <= 69),\n",
    "            (df['Rand_08'] > 69)\n",
    "        ]\n",
    "\n",
    "    df['variant_assignment'] = np.select(variant_condition, variant_names, default='Unknown')\n",
    "    \n",
    "## Loop through column\n",
    "for col in seg_cols:\n",
    "    cur_pd_weights = pd_weights\n",
    "    cur_pd_weights['seg_names'] = cur_pd_weights.index\n",
    "    df = df.merge(cur_pd_weights, how='left', left_on = [col,'variant_assignment'], right_on = ['seg_names','variant'], suffixes = (None, \"_\" + col))\n",
    "            \n",
    "cols_with_weights = [col for col in df.columns if 'weight' in col]\n",
    "df['final_weight'] = df[cols_with_weights].mean(axis=1)\n",
    "\n",
    "df['converted'] = df.apply(lambda row: np.random.choice([1,0], p=[row['final_weight'], 1 - row['final_weight']]), axis=1)\n",
    "\n",
    "if print_diagnostics:\n",
    "    df['was_modified'] = df['variant_assignment'] != 'Control'\n",
    "    modified_ratios = df.groupby('was_modified').agg({'converted': ['mean', 'count', 'sum']})\n",
    "    display(modified_ratios)\n",
    "\n",
    "cols_to_return = seg_cols + ['variant_assignment', 'final_weight', 'converted']\n",
    "\n",
    "return df[cols_to_return]"
   ]
  },
  {
   "cell_type": "code",
   "execution_count": null,
   "id": "69b90529-98ab-478c-bad4-36f22ee8cffa",
   "metadata": {},
   "outputs": [],
   "source": []
  }
 ],
 "metadata": {
  "kernelspec": {
   "display_name": "Python 3 (ipykernel)",
   "language": "python",
   "name": "python3"
  },
  "language_info": {
   "codemirror_mode": {
    "name": "ipython",
    "version": 3
   },
   "file_extension": ".py",
   "mimetype": "text/x-python",
   "name": "python",
   "nbconvert_exporter": "python",
   "pygments_lexer": "ipython3",
   "version": "3.12.3"
  }
 },
 "nbformat": 4,
 "nbformat_minor": 5
}
