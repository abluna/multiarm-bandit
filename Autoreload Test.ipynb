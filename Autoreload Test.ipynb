{
 "cells": [
  {
   "cell_type": "code",
   "execution_count": 1,
   "id": "787939d8-7a7b-404a-9832-f9436890811f",
   "metadata": {},
   "outputs": [],
   "source": [
    "%load_ext autoreload\n",
    "%autoreload 2\n",
    "%aimport mab"
   ]
  },
  {
   "cell_type": "code",
   "execution_count": 3,
   "id": "4ed76a37-7076-4d66-9de8-2235cf7aa2e8",
   "metadata": {},
   "outputs": [],
   "source": [
    "import mab"
   ]
  },
  {
   "cell_type": "code",
   "execution_count": 7,
   "id": "1d318b10-827f-4594-8bd8-f56e7811b6f8",
   "metadata": {},
   "outputs": [
    {
     "data": {
      "text/plain": [
       "'Poop'"
      ]
     },
     "execution_count": 7,
     "metadata": {},
     "output_type": "execute_result"
    }
   ],
   "source": [
    "mab.mab_test()"
   ]
  },
  {
   "cell_type": "code",
   "execution_count": null,
   "id": "e49be63a-2039-4e62-abf6-3c96f8c64af5",
   "metadata": {},
   "outputs": [],
   "source": []
  }
 ],
 "metadata": {
  "kernelspec": {
   "display_name": "Python 3 (ipykernel)",
   "language": "python",
   "name": "python3"
  },
  "language_info": {
   "codemirror_mode": {
    "name": "ipython",
    "version": 3
   },
   "file_extension": ".py",
   "mimetype": "text/x-python",
   "name": "python",
   "nbconvert_exporter": "python",
   "pygments_lexer": "ipython3",
   "version": "3.12.7"
  }
 },
 "nbformat": 4,
 "nbformat_minor": 5
}
